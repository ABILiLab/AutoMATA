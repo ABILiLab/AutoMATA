{
 "cells": [
  {
   "cell_type": "code",
   "execution_count": 1,
   "metadata": {},
   "outputs": [],
   "source": [
    "from sklearn.utils import shuffle\n",
    "from sklearn.preprocessing import LabelEncoder\n",
    "import torch.optim\n",
    "import warnings\n",
    "import pandas as pd\n",
    "import torch\n",
    "from sklearn.model_selection import train_test_split"
   ]
  },
  {
   "cell_type": "code",
   "execution_count": null,
   "metadata": {},
   "outputs": [],
   "source": [
    "/xp/www/AutoMATA/download_data/Jobs/20250317111252_aJddINSS/20250317111252_aJddINSS_train.txt"
   ]
  },
  {
   "cell_type": "code",
   "execution_count": 9,
   "metadata": {},
   "outputs": [
    {
     "name": "stdout",
     "output_type": "stream",
     "text": [
      "(34, 6)\n"
     ]
    },
    {
     "data": {
      "text/html": [
       "<div>\n",
       "<style scoped>\n",
       "    .dataframe tbody tr th:only-of-type {\n",
       "        vertical-align: middle;\n",
       "    }\n",
       "\n",
       "    .dataframe tbody tr th {\n",
       "        vertical-align: top;\n",
       "    }\n",
       "\n",
       "    .dataframe thead th {\n",
       "        text-align: right;\n",
       "    }\n",
       "</style>\n",
       "<table border=\"1\" class=\"dataframe\">\n",
       "  <thead>\n",
       "    <tr style=\"text-align: right;\">\n",
       "      <th></th>\n",
       "      <th>GeneID</th>\n",
       "      <th>SAMPLE627</th>\n",
       "      <th>SAMPLE628</th>\n",
       "      <th>SAMPLE629</th>\n",
       "      <th>SAMPLE630</th>\n",
       "      <th>Label</th>\n",
       "    </tr>\n",
       "  </thead>\n",
       "  <tbody>\n",
       "    <tr>\n",
       "      <th>0</th>\n",
       "      <td>100287102</td>\n",
       "      <td>13.917407</td>\n",
       "      <td>13.799952</td>\n",
       "      <td>15.671203</td>\n",
       "      <td>14.486375</td>\n",
       "      <td>0</td>\n",
       "    </tr>\n",
       "    <tr>\n",
       "      <th>1</th>\n",
       "      <td>653635</td>\n",
       "      <td>19.909072</td>\n",
       "      <td>19.910844</td>\n",
       "      <td>19.854254</td>\n",
       "      <td>19.898069</td>\n",
       "      <td>1</td>\n",
       "    </tr>\n",
       "    <tr>\n",
       "      <th>2</th>\n",
       "      <td>100287102</td>\n",
       "      <td>13.917407</td>\n",
       "      <td>13.799952</td>\n",
       "      <td>15.671203</td>\n",
       "      <td>14.486375</td>\n",
       "      <td>0</td>\n",
       "    </tr>\n",
       "    <tr>\n",
       "      <th>3</th>\n",
       "      <td>653635</td>\n",
       "      <td>19.909072</td>\n",
       "      <td>19.910844</td>\n",
       "      <td>19.854254</td>\n",
       "      <td>19.898069</td>\n",
       "      <td>1</td>\n",
       "    </tr>\n",
       "    <tr>\n",
       "      <th>4</th>\n",
       "      <td>100287102</td>\n",
       "      <td>13.917407</td>\n",
       "      <td>13.799952</td>\n",
       "      <td>15.671203</td>\n",
       "      <td>14.486375</td>\n",
       "      <td>0</td>\n",
       "    </tr>\n",
       "  </tbody>\n",
       "</table>\n",
       "</div>"
      ],
      "text/plain": [
       "      GeneID  SAMPLE627  SAMPLE628  SAMPLE629  SAMPLE630  Label\n",
       "0  100287102  13.917407  13.799952  15.671203  14.486375      0\n",
       "1     653635  19.909072  19.910844  19.854254  19.898069      1\n",
       "2  100287102  13.917407  13.799952  15.671203  14.486375      0\n",
       "3     653635  19.909072  19.910844  19.854254  19.898069      1\n",
       "4  100287102  13.917407  13.799952  15.671203  14.486375      0"
      ]
     },
     "execution_count": 9,
     "metadata": {},
     "output_type": "execute_result"
    }
   ],
   "source": [
    "jobID = \"20250317111252_aJddINSS\"\n",
    "\n",
    "data = pd.read_csv(\"/xp/www/AutoMATA/download_data/Jobs/\"+jobID+\"/\"+jobID+\"_data.txt\", sep=\"\\t\")\n",
    "print(data.shape)\n",
    "data.head()"
   ]
  },
  {
   "cell_type": "code",
   "execution_count": 18,
   "metadata": {},
   "outputs": [
    {
     "name": "stdout",
     "output_type": "stream",
     "text": [
      "(27, 6)\n",
      "res_data.shape = (7, 6)\n",
      "val_data.shape = (3, 6)\n",
      "test_data.shape = (4, 6)\n"
     ]
    }
   ],
   "source": [
    "ratio = \"8:1:1\"\n",
    "ratio_str = ratio.split(\":\")\n",
    "ratio_num = list(map(int, ratio_str))  # [8, 1, 1]\n",
    "sum(ratio_num)\n",
    "train_ratio = ratio_num[0] / sum(ratio_num)\n",
    "test_ratio = ratio_num[2] / sum(ratio_num[1:])\n",
    "\n",
    "train_data, res_data = train_test_split(data, test_size=1-train_ratio, random_state=42, stratify=data[[\"Label\"]])\n",
    "print(train_data.shape)\n",
    "print(\"res_data.shape =\", res_data.shape)\n",
    "val_data, test_data = train_test_split(res_data, test_size=test_ratio, random_state=42, stratify=res_data[[\"Label\"]])\n",
    "print(\"val_data.shape =\", val_data.shape)\n",
    "print(\"test_data.shape =\", test_data.shape)\n",
    "\n",
    "# 保存\n",
    "val_data.to_csv(\"/xp/www/AutoMATA/download_data/Jobs/\"+jobID+\"/\"+jobID+\"_val.txt\", sep=\"\\t\", index=False)"
   ]
  },
  {
   "cell_type": "code",
   "execution_count": 20,
   "metadata": {},
   "outputs": [],
   "source": [
    "val_data.to_csv(\"/xp/www/AutoMATA/download_data/Jobs/\"+jobID+\"/\"+jobID+\"_val.txt\", sep=\"\\t\", index=False)"
   ]
  },
  {
   "cell_type": "code",
   "execution_count": 16,
   "metadata": {},
   "outputs": [
    {
     "data": {
      "text/plain": [
       "0.5"
      ]
     },
     "execution_count": 16,
     "metadata": {},
     "output_type": "execute_result"
    }
   ],
   "source": [
    "val_ratio = ratio_num[1] / sum(ratio_num[1:])\n",
    "val_ratio"
   ]
  },
  {
   "cell_type": "code",
   "execution_count": 7,
   "metadata": {},
   "outputs": [
    {
     "data": {
      "text/plain": [
       "0.85555"
      ]
     },
     "execution_count": 7,
     "metadata": {},
     "output_type": "execute_result"
    }
   ],
   "source": [
    "8.5555/10"
   ]
  },
  {
   "cell_type": "code",
   "execution_count": null,
   "metadata": {},
   "outputs": [],
   "source": [
    "jobID = \"20250317111252_aJddINSS_train\"\n",
    "\n",
    "data = pd.read_csv(\"/xp/www/AutoMATA/download_data/Jobs/\"+jobID+\"/\"+jobID+\"_data.txt\", sep=\"\\t\")"
   ]
  }
 ],
 "metadata": {
  "kernelspec": {
   "display_name": "automata",
   "language": "python",
   "name": "python3"
  },
  "language_info": {
   "codemirror_mode": {
    "name": "ipython",
    "version": 3
   },
   "file_extension": ".py",
   "mimetype": "text/x-python",
   "name": "python",
   "nbconvert_exporter": "python",
   "pygments_lexer": "ipython3",
   "version": "3.6.13"
  },
  "orig_nbformat": 4
 },
 "nbformat": 4,
 "nbformat_minor": 2
}
